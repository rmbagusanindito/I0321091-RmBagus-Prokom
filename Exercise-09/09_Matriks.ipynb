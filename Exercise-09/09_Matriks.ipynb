{
 "cells": [
  {
   "cell_type": "markdown",
   "metadata": {},
   "source": [
    "# Exercise 09  \n",
    "### OPERASI MATRIKS  \n",
    "Silahkan lengkapi kode yang rumpang sesuai perintah yang diberikan.\n"
   ]
  },
  {
   "cell_type": "markdown",
   "metadata": {},
   "source": [
    "![](./image/1.png)"
   ]
  },
  {
   "cell_type": "code",
   "execution_count": 3,
   "metadata": {},
   "outputs": [
    {
     "name": "stdout",
     "output_type": "stream",
     "text": [
      "[[95, 95], [95, 95]]\n",
      "[[87, 87], [87, 87]]\n"
     ]
    }
   ],
   "source": [
    "A = [[95,95],\n",
    "     [95,95]]\n",
    "\n",
    "B = [[87, 87],\n",
    "     [87, 87]]\n",
    "\n",
    "print(A)\n",
    "print(B)"
   ]
  },
  {
   "cell_type": "markdown",
   "metadata": {},
   "source": [
    "Buatlah matriks menggunakan metode perulangan for dengan ketentuan sebagai berikut:\n",
    "* Matriks A berisi angka sebesar 4 setelah nim kalian. (ex: nim = 12, nilai matriks [16, 16],[16,16])\n",
    "* Matriks B berisi angka sebesar 4 sebelum nim kalian. (ex: nim = 12, nilai matriks [8, 8],[8,8])\n"
   ]
  },
  {
   "cell_type": "code",
   "execution_count": 8,
   "metadata": {},
   "outputs": [
    {
     "name": "stdout",
     "output_type": "stream",
     "text": [
      "[[95, 95], [95, 95]]\n",
      "[[87, 87], [87, 87]]\n"
     ]
    }
   ],
   "source": [
    "def create(matriks, nim):\n",
    "    for i in range(0):\n",
    "        for k in range(0):\n",
    "            matriks[i][k] = nim\n",
    "create(A, 95)\n",
    "create(B, 87)\n",
    "\n",
    "print(A)\n",
    "print(B)"
   ]
  },
  {
   "cell_type": "markdown",
   "metadata": {},
   "source": [
    "## KERJAKAN SOAL BERIKUT\n",
    "1. Buatlah program penjumlahan matriks A dan B.\n",
    "2. Buatlah program pengurangan matriks A dan B.\n",
    "3. Buatlah program perkalian matriks A dan B."
   ]
  },
  {
   "cell_type": "code",
   "execution_count": 40,
   "metadata": {},
   "outputs": [
    {
     "name": "stdout",
     "output_type": "stream",
     "text": [
      "[ 182 182 ]\n",
      "[ 182 182 ]\n"
     ]
    }
   ],
   "source": [
    "#SOAL-1\n",
    "#YOUR CODE HERE\n",
    "matriksA = [[95, 95],\n",
    "            [95, 95],]\n",
    "\n",
    "matriksB = [[87, 87],\n",
    "            [87, 87],]\n",
    "\n",
    "for x in range(len(matriksA)):\n",
    "    print(\"[\", end=\" \")\n",
    "    for y in range(len(matriksA[0])):\n",
    "        print(matriksA[x][y] + matriksB[x][y], end=\" \"),\n",
    "    print(\"]\")\n"
   ]
  },
  {
   "cell_type": "code",
   "execution_count": 41,
   "metadata": {},
   "outputs": [
    {
     "name": "stdout",
     "output_type": "stream",
     "text": [
      "[ 8 8 ]\n",
      "[ 8 8 ]\n"
     ]
    }
   ],
   "source": [
    "#SOAL-2\n",
    "#YOUR CODE HERE\n",
    "#SOAL-1\n",
    "#YOUR CODE HERE\n",
    "matriksA = [[95, 95],\n",
    "            [95, 95],]\n",
    "\n",
    "matriksB = [[87, 87],\n",
    "            [87, 87],]\n",
    "\n",
    "for x in range(len(matriksA)):\n",
    "    print(\"[\", end=\" \")\n",
    "    for y in range(len(matriksA[0])):\n",
    "        print(matriksA[x][y] - matriksB[x][y], end=\" \"),\n",
    "    print(\"]\")\n"
   ]
  },
  {
   "cell_type": "code",
   "execution_count": 45,
   "metadata": {},
   "outputs": [
    {
     "name": "stdout",
     "output_type": "stream",
     "text": [
      "[ 16530 16530 ]\n",
      "[ 16530 16530 ]\n"
     ]
    }
   ],
   "source": [
    "#SOAL-3\n",
    "#YOUR CODE HERE\n",
    "matriksA = [[95, 95],\n",
    "            [95, 95],]\n",
    "\n",
    "matriksB = [[87, 87],\n",
    "            [87, 87],]\n",
    "\n",
    "matriksC = []\n",
    "\n",
    "\n",
    "for x in range(len(matriksA)):\n",
    "    baris = []\n",
    "    for y in range(len(matriksB[0])):\n",
    "        total = 0\n",
    "        for z in range(len(matriksB)):\n",
    "            total = total + matriksA[x][z] * matriksB[z][y]\n",
    "        baris.append(total)\n",
    "    matriksC.append(baris)\n",
    "\n",
    "for x in range(len(matriksC)):\n",
    "    print(\"[\", end=\" \")\n",
    "    for y in range(len(matriksC[0])):\n",
    "        print(matriksC[x][y],end=\" \")\n",
    "    print(\"]\")\n"
   ]
  },
  {
   "cell_type": "markdown",
   "metadata": {},
   "source": [
    "### Cara Pengumpulan\n",
    "\n",
    "1. Buka *New Terminal*\n",
    "2. Pastikan *path* Terminal adalah folder repositori kalian (NIM-Nama-Prokom).\n",
    "3. Tambahkan file yang akan ditrack dengan `git add <nama file>`. Nama file bisa diubah . (titik)  `git add .`yang artinya semua file dalam folder akan ditrack.\n",
    "4. Lakukan commit perubahan dengan `git commit -m <deskripsi>`.\n",
    "5. Lakukan push dengan `git push -u origin <nama branch>`. Nama branch dapat diketahui dengan `git branch`.\n",
    "6. Pastikan Exercise-02 telah terupload dan dapat diakses di repositori dengan mengaksesnya di browser."
   ]
  }
 ],
 "metadata": {
  "interpreter": {
   "hash": "782e44b3a77a7a1c4bcb5df138c01f488e70b61987c9bb22e634cc0094221137"
  },
  "kernelspec": {
   "display_name": "Python 3.10.2 64-bit",
   "language": "python",
   "name": "python3"
  },
  "language_info": {
   "codemirror_mode": {
    "name": "ipython",
    "version": 3
   },
   "file_extension": ".py",
   "mimetype": "text/x-python",
   "name": "python",
   "nbconvert_exporter": "python",
   "pygments_lexer": "ipython3",
   "version": "3.10.2"
  },
  "orig_nbformat": 4
 },
 "nbformat": 4,
 "nbformat_minor": 2
}
